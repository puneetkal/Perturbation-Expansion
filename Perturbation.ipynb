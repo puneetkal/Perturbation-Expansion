{
 "cells": [
  {
   "cell_type": "code",
   "execution_count": 34,
   "metadata": {},
   "outputs": [],
   "source": [
    "import numpy as np\n",
    "import sympy as sp\n",
    "\n",
    "E, x, x0, x1, x2 = sp.symbols('E x x0 x1 x2')"
   ]
  },
  {
   "cell_type": "code",
   "execution_count": 35,
   "metadata": {},
   "outputs": [],
   "source": [
    "def f(x):\n",
    "    return x**2 + E*x - 1"
   ]
  },
  {
   "cell_type": "code",
   "execution_count": 36,
   "metadata": {},
   "outputs": [
    {
     "name": "stdout",
     "output_type": "stream",
     "text": [
      " Solution0: -E**2/8 - E/2 - 1\n",
      " Solution1: E**2/8 - E/2 + 1\n"
     ]
    }
   ],
   "source": [
    "equation = x0 + E*x1 + E**2*x2\n",
    "pert_eq = f(equation)\n",
    "expanded_equation = sp.expand(pert_eq)\n",
    "collect_equation = sp.collect(expanded_equation , E)\n",
    "\n",
    "eq_x0 = collect_equation.coeff(E,0)\n",
    "sol_eq_x0 = sp.solve(eq_x0,x0)\n",
    "\n",
    "eq_x1 = collect_equation.coeff(E,1)\n",
    "sol_eq_x1 = [sp.solve( eq_x1.subs(x0,sol) , x1 )[0] for sol in sol_eq_x0 ]\n",
    "\n",
    "eq_x2 = collect_equation.coeff(E,2)\n",
    "sol_eq_x2 = [sp.solve(eq_x2.subs({x0 : sol_eq_x0[i] , x1 : sol_eq_x1[i] }) , x2)[0] for i in range(len(sol_eq_x1))]\n",
    "\n",
    "final_solution = [sol_eq_x0[i] + E*sol_eq_x1[i] + E**2*sol_eq_x2[i] for i in range(len(sol_eq_x0))]\n",
    "\n",
    "ans = [sp.simplify(sol) for sol in final_solution]\n",
    "\n",
    "i=0\n",
    "for sol in ans:\n",
    "    print(f' Solution{i}: {sol}')\n",
    "    i=i+1\n"
   ]
  },
  {
   "cell_type": "code",
   "execution_count": null,
   "metadata": {},
   "outputs": [],
   "source": []
  }
 ],
 "metadata": {
  "kernelspec": {
   "display_name": "Python 3",
   "language": "python",
   "name": "python3"
  },
  "language_info": {
   "codemirror_mode": {
    "name": "ipython",
    "version": 3
   },
   "file_extension": ".py",
   "mimetype": "text/x-python",
   "name": "python",
   "nbconvert_exporter": "python",
   "pygments_lexer": "ipython3",
   "version": "3.11.2"
  }
 },
 "nbformat": 4,
 "nbformat_minor": 2
}
